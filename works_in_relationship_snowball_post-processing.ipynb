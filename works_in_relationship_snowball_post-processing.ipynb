{
 "cells": [
  {
   "cell_type": "code",
   "execution_count": 1,
   "metadata": {},
   "outputs": [],
   "source": [
    "from pymongo import MongoClient\n",
    "from bson.objectid import ObjectId"
   ]
  },
  {
   "cell_type": "code",
   "execution_count": 2,
   "metadata": {},
   "outputs": [],
   "source": [
    "client = MongoClient('act4dgem.cse.iitd.ac.in', serverSelectionTimeoutMS=600000)\n",
    "db = client['eventwise_media-db']"
   ]
  },
  {
   "cell_type": "code",
   "execution_count": 3,
   "metadata": {},
   "outputs": [],
   "source": [
    "resolved_entities_1 = db.get_collection('all_media_entities_resolved_final')"
   ]
  },
  {
   "cell_type": "code",
   "execution_count": 4,
   "metadata": {},
   "outputs": [],
   "source": [
    "resolved_entities_2 = db.get_collection('all_media_entities_resolved_final3')"
   ]
  },
  {
   "cell_type": "code",
   "execution_count": 5,
   "metadata": {},
   "outputs": [],
   "source": [
    "with open('./relationships_works_in.txt') as fil:\n",
    "    lines = fil.readlines()\n",
    "instances = [l[10:].strip().split('\\t')[:2] for l in lines if l.startswith('instance')]\n",
    "sentences = [l[10:].strip() for l in lines if l.startswith('sentence')]"
   ]
  },
  {
   "cell_type": "code",
   "execution_count": 6,
   "metadata": {},
   "outputs": [
    {
     "data": {
      "text/plain": [
       "'sentence: Hong Kong: Asian insurer <ORG>5982d07f9855b7221e184316</ORG> , the world\\'s second largest by m-cap, will scale up its business in India undeterred by either the boardroom battle at its joint venture partner <ORG>5982d07f9855b7221e184314</ORG>>5982d07f9855b7221e184315</PER> or the heat and dust of demonetisation . AIA, which was spun off from the <ORG>5982d07f9855b7221e18431b</ORG> through a nearly $18-billion IPO in 2010, has emerged as the largest pan-Asian insurer.In an interview to TOI, <PER>5982d07f9855b7221e184311</PER> , regional chief executive, AIA, said that the Indian joint venture Tata AIA Life Insurance has moved up ten positions in rankings to become the sixth largest life insurance company. \"Looking at the Tata brand, we should be among the top three players. In the life business, we had some stop-starts. A key part of that was not having a bancassurance partner. But we turned that corner by partnering <ORG>5982d07f9855b7221e184319</ORG> and <ORG>5982d0959855b7221e185544</ORG>. We are still a bit away from the top three or four, but we are building the right foundations,\" said Lisle.On the ongoing boardroom tussle in <ORG>5982d07f9855b7221e184317</ORG>, Lisle said, \"We do not have any concerns. We are in partnership with the Tatas and we trust them to take the right decisions.\"Lisle sits on the Tata AIA board along with <PER>5982d07f9855b7221e184312</PER>, finance director, <ORG>5982d07b9855b7221e183f82</ORG>. \"We have been around for 100 years and Tatas have been around for more than a 100 years. From our perspective, this is very much business as usual,\" said Lisle.On demonetisation, Lisle said that it was a bold move. \"Prime Minister <PER>5982d0679855b7221e182f25</PER> is still popular. Although growth slowed slightly this year, 7.3% is a rate that the West would die for. Despite challenges, we see the growth drivers for the Indian economy continuing. There is huge opportunity akin to China, GST is expected to come in and that is expected to improve longer term public finances. I think demonetisation will have a short-term impact potentially on growth, but longer term it is the right thing for the economy,\" he said.Speaking on plans for India, Lisle said that AIA plans to bring its new product AIA Vitality into the Indian markets. <ORG>5982d07f9855b7221e184316</ORG> Vitality brings the concept of shared values by rewarding policyholders for staying healthy. There are three aspects to insurance plans under the Vitality programme. The first part involves getting the insured to undergo regular tests and diagnostics.In the second part, the company tells the insured what they need to do to get health and measure their adherence to an exercise regime through connected devices. If the insured achieves the goals, he is rewarded with discounts and deals. \"The healthier our clients are, the lesser they claim. We pass our savings to them in the form of discounts,\" said Lisle. The company is also bringing its group protection solutions and has started working with TCS.(The writer was in Hong Kong at the invitation of AIA)\\n'"
      ]
     },
     "execution_count": 6,
     "metadata": {},
     "output_type": "execute_result"
    }
   ],
   "source": [
    "lines[1]"
   ]
  },
  {
   "cell_type": "code",
   "execution_count": 8,
   "metadata": {},
   "outputs": [],
   "source": [
    "name = []\n",
    "name_uuid = []\n",
    "org = []\n",
    "org_uuid = []\n",
    "sen = []\n",
    "for i,inst in enumerate(instances):\n",
    "    res = resolved_entities_1.find_one({'_id':ObjectId(inst[0]), 'graphid':{'$exists':True}, 'type':'Person'})\n",
    "    s = sentences[i]\n",
    "    if res:\n",
    "        name.append(res['stdName'])\n",
    "        name_uuid.append(res['graphid'])\n",
    "        s = s.replace(inst[0], res['stdName'])\n",
    "    else:\n",
    "        continue\n",
    "    res = resolved_entities_2.find_one({'_id':ObjectId(inst[1]), 'graphid':{'$exists':True}})\n",
    "    if res:\n",
    "        org.append(res['stdName'])\n",
    "        org_uuid.append(res['graphid'])\n",
    "        s = s.replace(inst[1], res['stdName'])\n",
    "    else:\n",
    "        del name[-1]\n",
    "        continue\n",
    "    sen.append(s)"
   ]
  },
  {
   "cell_type": "code",
   "execution_count": 9,
   "metadata": {},
   "outputs": [
    {
     "data": {
      "text/plain": [
       "True"
      ]
     },
     "execution_count": 9,
     "metadata": {},
     "output_type": "execute_result"
    }
   ],
   "source": [
    "len(name) == len(org)"
   ]
  },
  {
   "cell_type": "code",
   "execution_count": 10,
   "metadata": {},
   "outputs": [
    {
     "data": {
      "text/plain": [
       "[('ASHOK BHANUSHALI TRIKAMJI', 'GUJARAT POLY AVX ELECTRONICS LTD.'),\n",
       " ('ANAND SINGH RATTANDEEP',\n",
       "  'HOTEL AND RESTAURANT ASSOCIATION OF NORTHERN INDIA ..'),\n",
       " ('GADICHERLA SUBBA RAO', 'SVS PRODUCTS PRIVATE LIMITED'),\n",
       " ('SIDHI PARKASH JAIN', 'RELIANCE INFRATEL LIMITED'),\n",
       " ('MOHAN KAMESHWARAN', 'MADRAS ENT RESEARCH FOUNDATION PRIVATE LIMITED'),\n",
       " ('MOHAN KAMESHWARAN', 'MADRAS ENT RESEARCH FOUNDATION PRIVATE LIMITED'),\n",
       " ('NUGGEHALLI GEETHAPRABHU JAYASIMHA', 'HUMANE SOCIETY. INTERNATIONAL: INDIA'),\n",
       " ('KAILASH KUMAR GOYAL', 'EXPORT PROMOTION COUNCIL FOR HANDICRAFTS'),\n",
       " ('JWALANT SURESHBHAI SHAH', 'ENVIRONMENTAL RESOURCES FOUNDATION'),\n",
       " ('JAYASHREE VENKATRAMAN', 'TRACTORS AND FARM EQUIPMENT LIMITED.'),\n",
       " ('DEEPAK MOOLCHAND LAHOTI', 'BAJAJ FINSERV LIMITED'),\n",
       " ('chandrasekaran.m', 'CONFEDERATION OF INDIAN INTERNET COMMERCE'),\n",
       " ('Lochan Singh', 'GLOBAL AUTOTECH LIMITED'),\n",
       " ('LAKSHMIKANTHAN KRISHNAN',\n",
       "  'RENAULT NISSAN TECHNOLOGY & BUSINESS CENTRE INDIA PRIVATE LIMITED'),\n",
       " ('NILADRI SEKHAR ROY', 'MAHANADI COALFIELDS LIMITED'),\n",
       " ('VINOD BIDASARIA', 'FERRO CONCRETE CO INDIA LTD'),\n",
       " ('DILPREET BRAR', 'IBM INDIA PRIVATE LIMITED'),\n",
       " ('SACHIN DHINGRA', 'RELIANCE DEFENCE AND AEROSPACE PRIVATE LIMITED'),\n",
       " ('ANIL KUMAR GARG', 'AXIS BANK LIMITED'),\n",
       " ('PRAMOD SARAF', 'NATIONAL SPOT EXCHANGE LIMITED'),\n",
       " ('RAMKUMAR VARADARAJAN', 'SRI MAHASAKTHI MILLS LIMITED'),\n",
       " ('KAMAL SINGAL', 'ARVIND LIMITED'),\n",
       " ('SANJAY GUPTA', 'HERO CORPORATE SERVICE LIMITED'),\n",
       " ('UMADEVI MAHESHWARI', 'MUMBAI METRO TRANSPORT PRIVATE LIMITED'),\n",
       " ('JAYKUMAR KHANDERAO PATHARE', 'DHANLAXMI BANK LIMITED'),\n",
       " ('SUDHIR BHALLA', 'KARNATAKA POWER TRANSMISSION CORPORATION LIMITED'),\n",
       " ('NANDAKUMAR KALATH', 'MANAPPURAM FINANCE LIMITED'),\n",
       " ('ravikumar.d', 'CAPRI GLOBAL CAPITAL LIMITED'),\n",
       " ('PRAKASH SUBRAMANIAM', 'BHARTI AIRTEL LIMITED'),\n",
       " ('AJOY MEHTA', 'Public Works Department'),\n",
       " ('MADHU LUNAWAT', 'PANTOMATH CAPITAL ADVISORS PRIVATE LIMITED'),\n",
       " ('DIP NARAYAN MITTRA',\n",
       "  'FEDERATION OF INDIAN CHAMBER OF COMMERCE AND INDUSTRY.'),\n",
       " ('AMAR NATH GUPTA', 'NATIONAL FILM DEVELOPMENT CORP0RATION LIMITED'),\n",
       " ('VASANT VITTHALDAS GUJARATHI', 'RELIGARE SECURITIES LIMITED'),\n",
       " ('RALF DIETER SPETH', 'JAGUAR LAND ROVER INDIA LIMITED'),\n",
       " ('DIP NARAYAN MITTRA',\n",
       "  'FEDERATION OF INDIAN CHAMBER OF COMMERCE AND INDUSTRY.'),\n",
       " ('RADHA KRISHNA RAJU', 'KARNATAKA SILK INDUSTRIES CORPORATION LIMITED'),\n",
       " ('VINOD KUMAR DUGAR', 'HAILEYBURIA TEA ESTATES LTD'),\n",
       " ('BALAJI GHUGE', 'CREAMLINE DAIRY PRODUCTS LTD.'),\n",
       " ('SANDIPAN CHAKRAVORTTY', 'TATA STEEL PROCESSING AND DISTRIBUTION LIMITED'),\n",
       " ('VINOD KUMAR TIWARI', 'HIMACHAL PRADESH POWER CORPORATION LIMITED'),\n",
       " ('ASHWINI SATISH BHIDE', 'MUMBAI METRO RAIL CORPORATION LIMITED'),\n",
       " ('SNEHA PRABHAKAR PATIL', 'DELHI INTERNATIONAL AIRPORT PRIVATE LIMITED'),\n",
       " ('KOTTUKAPPALLIL THOMAS TOM', 'APOLLO TYRES LIMITED.'),\n",
       " ('PIYUSH TRIKAMLAL MEHTA', 'RAJESH EXPORTS LIMITED'),\n",
       " ('SNEHA PRABHAKAR PATIL', 'DELHI INTERNATIONAL AIRPORT PRIVATE LIMITED'),\n",
       " ('THOMAS MATHEW THUMPEPARAMBIL',\n",
       "  'GEOJIT BNP PARIBAS FINANCIAL SERVICES LIMITED'),\n",
       " ('MANOJ KUMAR JAIN', 'SHRIRAM LIFE INSURANCE COMPANY LIMITED'),\n",
       " ('ASHOK SOOTA', 'HAPPIEST MINDS TECHNOLOGIES PRIVATE LIMITED'),\n",
       " ('SHANTINATH JHA', 'MAHANADI COALFIELDS LIMITED'),\n",
       " ('DARPAN JAIN',\n",
       "  'KARNATAKA URBAN INFRASTRUCTURE DEVELOPMENT AND FIN ANCE CORPORATION LIMITED'),\n",
       " ('JEFFRY BRUCE SEIDEL', 'BROOKINGS INSTITUTION INDIA PRIVATE LIMITED'),\n",
       " ('Shatrughn Vyankatrao Sonpimple', 'MAHANAGAR GAS LIMITED'),\n",
       " ('SNEHA PRABHAKAR PATIL', 'DELHI INTERNATIONAL AIRPORT PRIVATE LIMITED'),\n",
       " ('SONAM KATYAL', 'IDBI CAPITAL MARKET SERVICES LIMITED'),\n",
       " ('KRISHAN LAL KATYAL', 'CASHEW EXPORT PROMOTION COUNCIL OF INDIA'),\n",
       " ('RAMACHANDRA RAO MADAPATI', 'SKS MICROFINANCE LIMITED'),\n",
       " ('DAMODAR H SEJPAL', 'ASK INVESTMENT MANAGERS PRIVATE LIMITED'),\n",
       " ('SONAM KATYAL', 'IDBI CAPITAL MARKET SERVICES LIMITED'),\n",
       " ('PADMA VINOD BETAI', 'GEOJIT BNP PARIBAS FINANCIAL SERVICES LIMITED'),\n",
       " ('MAHESH KUMAR AGRAWAL', 'ADITYAPUR AUTO CLUSTER'),\n",
       " ('ATUL SINGH', 'COCA-COLA INDIA FOUNDATION'),\n",
       " ('VITHAL GOPAL MAHAJAN', 'BHARTI AIRTEL LIMITED'),\n",
       " ('AADHITIYA UJWAL LAHOTI', 'CASHEW EXPORT PROMOTION COUNCIL OF INDIA'),\n",
       " ('anu kumar', 'UTTAR PRADESH CRICKET ASSOCIATION'),\n",
       " ('PADMA VINOD BETAI', 'GEOJIT BNP PARIBAS FINANCIAL SERVICES LIMITED'),\n",
       " ('SOUMEN GHOSH', 'RELIANCE CAPITAL ASSET MANAGEMENT LIMITED'),\n",
       " ('VINEET TANEJA', 'BHARTI AIRTEL LIMITED'),\n",
       " ('RAJESH KUMAR GUPTA', 'LIBERTY SHOES LIMITED'),\n",
       " ('CHANDRAJIT BANERJEE', 'CONFEDERATION OF INDIAN INTERNET COMMERCE'),\n",
       " ('GANTAKOLLA SRIVASTAVA', 'CROPLIFE INDIA'),\n",
       " ('HIMANSHU AGGARWAL', 'ASPIRING MINDS ASSESSMENT PRIVATE LIMITED'),\n",
       " ('Shri S PARTHASARATHY', 'MOTHER DAIRY FRUIT AND VEGETABLE PRIVATE LIMITED'),\n",
       " ('Shri M GOPALAKRISHNA', 'CONFEDERATION OF INDIAN INTERNET COMMERCE'),\n",
       " ('VIKRAM RUPCHAND JAISINGHANI',\n",
       "  'GMR HYDERABAD INTERNATIONAL AIRPORT LIMITED'),\n",
       " ('TARANG MADANJIT MEHTA', 'INDIA BULLION AND JEWELLERS ASSOCIATION LIMITED'),\n",
       " ('PUNEET ABROL', 'AIRASIA (INDIA) PRIVATE LIMITED'),\n",
       " ('PADMA VINOD BETAI', 'GEOJIT BNP PARIBAS FINANCIAL SERVICES LIMITED'),\n",
       " ('RAJESH SATISH MIRJANKAR', 'MSWIPE TECHNOLOGIES PRIVATE LIMITED'),\n",
       " ('ARSHAD HUSSAIN MIR', 'KERALA STATE CIVIL SUPPLIES CORPN LTD'),\n",
       " ('INDU SHEKHAR MISHRA', 'ASSAM POWER DISTRIBUTION COMPANY LIMITED'),\n",
       " ('VITHAL GOPAL MAHAJAN', 'BHARTI AIRTEL LIMITED'),\n",
       " ('SANJAY MALIK', 'BHARTI AIRTEL LIMITED'),\n",
       " ('Master William Gill', \"MOODY'S INVESTORS SERVICE INDIA PRIVATE LIMITED\"),\n",
       " ('ANUPAM GOYAL', 'INDIA TRANSACT SERVICES LIMITED'),\n",
       " ('RAGHVENDRA NATH', 'LADDERUP WEALTH MANAGEMENT PRIVATE LIMITED'),\n",
       " ('MANISH KUMAR TIBREWAL', 'JAGANNATH TEXTILE COMPANY LIMITED'),\n",
       " ('DILIP SURAJMAL SANGHVI', 'SUN PHARMACEUTICAL INDUSTRIES LIMITED'),\n",
       " ('JAGJEET SINGH KANDAL', 'AMALGAMATED PLANTATIONS PRIVATE LIMITED'),\n",
       " ('GAYATHRI', 'UCAL AUTO PRIVATE LIMITED'),\n",
       " ('Shri S PARTHASARATHY', 'MOTHER DAIRY FRUIT AND VEGETABLE PRIVATE LIMITED'),\n",
       " ('VINAYA ABHIJIT JOSHI', 'BERGER PAINTS INDIA LIMITED'),\n",
       " ('DARSHANA SAUMIL PANDYA', 'UJJIVAN FINANCIAL SERVICES LIMITED'),\n",
       " ('PANKAJ VASANTLAL KIKAVAT', 'POLARIS INDIA PRIVATE LIMITED'),\n",
       " ('CHIRINJIV SINGH BEDI', 'ROSSELL INDIA LIMITED'),\n",
       " ('PANKAJ VASANTLAL KIKAVAT', 'POLARIS INDIA PRIVATE LIMITED'),\n",
       " ('CHIRINJIV SINGH BEDI', 'ROSSELL INDIA LIMITED'),\n",
       " ('CHIRINJIV SINGH BEDI', 'ROSSELL INDIA LIMITED'),\n",
       " ('VINOD KUMAR DASARI', 'ASHOK LEYLAND LIMITED'),\n",
       " ('MANJUSHREE MAHESHWARY', 'JAY SHREE TEA AND INDUSTRIES LIMITED'),\n",
       " ('KANWAR BIR SINGH', 'ASIAN PAINTS LIMITED'),\n",
       " ('HARSH KULDEEP BAJPAI', 'VILLAGE FINANCIAL SERVICES PVT. LTD.'),\n",
       " ('DESH DEEPAK KHETRAPAL', 'ORIENT NET LIMITED'),\n",
       " ('KSHITIJ JAIN', 'ING VYSYA LIFE INSURANCE COMPANY LIMITED'),\n",
       " ('DARSHANA SAUMIL PANDYA', 'UJJIVAN SMALL FINANCE BANK LIMITED'),\n",
       " ('KRISHNASAMY RAJAGOPALAN', 'AKZO NOBEL INDIA LIMITED'),\n",
       " ('Suruchi Maheshwari', 'JAY SHREE TEA AND INDUSTRIES LIMITED'),\n",
       " ('MANJUSHREE MAHESHWARY', 'JAY SHREE TEA AND INDUSTRIES LIMITED'),\n",
       " ('BALKISHAN SARIA', 'DARJEELING POWER LIMITED'),\n",
       " ('SUBASHINI JAYAKUMAR', 'MAHENDRA PUMPS PRIVATE LIMITED'),\n",
       " ('Dr. Anil Kumar', 'Animal and Fish Resources Department'),\n",
       " ('RAJKUMAR VISWANATHAN', 'SRI MAHASAKTHI MILLS LIMITED'),\n",
       " ('MANICKAM DHARMALINGAM', 'SAKTHI SUGARS LIMITED'),\n",
       " ('MANJEEV SINGH BHALLA', 'FORD INDIA PRIVATE LIMITED'),\n",
       " ('SRIPRIYA SENTHILKUMAR', 'BKS TEXTILES PRIVATE LIMITED'),\n",
       " ('THANGAPPAN PARIMANAM', 'INDO-AUSTRALIAN CHAMBER OF COMMERCE'),\n",
       " ('BEELA RAJESH', 'TAMIL NADU SKILL DEVELOPMENT CORPORATION'),\n",
       " ('NEVILLE TULI', 'AEP INDUSTRIES PRIVATE LIMITED'),\n",
       " ('RAJAN KRISHNASWAMY PILLAI', 'INDIAN STRATEGIC PETROLEUM RESERVES LIMITED'),\n",
       " ('ANU E P', 'BLS INTERNATIONAL SERVICES LIMITED'),\n",
       " ('RAJAKUMARI SUDHEESAN PUZHEKADAVIL', 'BOSCH REXROTH (INDIA) LIMITED'),\n",
       " ('PRABHU MUTHANNA GUMMATIRA', 'WILDLIFE CONSERVATION SOCIETY - INDIA'),\n",
       " ('THANGAPPAN PARIMANAM', 'INDO-AUSTRALIAN CHAMBER OF COMMERCE'),\n",
       " ('Shri RAJ KESHWAR RAM', 'GVK BIOSCIENCES PRIVATE LIMITED'),\n",
       " ('BASAVAPURNAIAH CHALASANI', 'UTL TECHNOLOGIES LIMITED'),\n",
       " ('TIMOTHY JOHN JUNKER', 'KALYANI ALSTOM POWER LIMITED'),\n",
       " ('PRABHAT SAHAI', 'MUMBAI RAILYWAY VIKAS CORPORATION LIMITED'),\n",
       " ('VENKATARAMANI SUMANTRAN', 'ASHOK LEYLAND LIMITED'),\n",
       " ('PASH BHATIA', 'INTERGLOBE ENTERPRISES LIMITED'),\n",
       " ('BALASUBRAMANIAM GOPALSAMY', 'ROOTS CAST PRIVATE LIMITED'),\n",
       " ('PUSHPENDRA KUMAR JAIN',\n",
       "  'Ministry of Statistics and Programme Implementation'),\n",
       " ('SRIDHAR', 'ACE CREATIVE LEARNING PRIVATE LIMITED'),\n",
       " ('SAILAJA BALASUBRAMANIYAN', 'BANNARI AMMAN EXPORTS PRIVATE LIMITED'),\n",
       " ('Juno John Baby', 'FUNSKOOL(INDIA) LTD.'),\n",
       " ('SUDARSHAN LAL BALUJA', 'MANIPAL HEALTH SYSTEMS PRIVATE LIMITED'),\n",
       " ('RAMACHANDRA RAO MADAPATI', 'SKS MICROFINANCE LIMITED'),\n",
       " ('ARUNKUMAR VERMA', 'KUN CAPITAL AUTOMOTIVE PRIVATE LIMITED'),\n",
       " ('ANAND M LIMAYE', 'JAINCO AUTOMOTIVE PVT LTD'),\n",
       " ('NAGARAJAN SRINIVASAN', 'HINDUJA LEYLAND FINANCE LIMITED'),\n",
       " ('N S MOHAN', 'CONFEDERATION OF INDIAN INTERNET COMMERCE'),\n",
       " ('Sarnam Singh', 'INDIAN GRAMEEN SERVICES'),\n",
       " ('AMIT SHARMA', 'IBM INDIA PRIVATE LIMITED'),\n",
       " ('TARUN CHUGH', 'ICICI PRUDENTIAL LIFE INSURANCE COMPANY LIMITED'),\n",
       " ('NIKHIL MANOHAR NAIK', 'AMAZON INDIA LIMITED'),\n",
       " ('SMITA LALIT SANGHAVI', 'KP SANGHVI JEWELS PRIVATE LIMITED'),\n",
       " ('S SHRINIVASAN', 'IFFCO KISAN SANCHAR LIMITED'),\n",
       " ('DIPANKAR BASU', 'MANGALORE REFINERY AND PETROCHEMICALS LIMITED'),\n",
       " ('sasikumar.s', 'KARNATAKA FISHERIES DEVELOPMENT CORPORATION LIMITED'),\n",
       " ('ANANTH RAMANUJAM', 'TURBO CEMENT LIMITED'),\n",
       " ('PRAVIN RANGANATH NYAYAPATY', 'GRUNDFOS PUMPS INDIA PRIVATE LIMITED'),\n",
       " ('SRIDHAR', 'TAKE SOLUTIONS LIMITED'),\n",
       " ('RIPUL MANSUKHLAL KOTECHA', 'JAYPEE SPORTS INTERNATIONAL LIMITED'),\n",
       " ('ANUPAM SHAH', 'EEPC INDIA'),\n",
       " ('SHANMUGHANATHAN MANICKAM',\n",
       "  'TAMILNADU HANDICRAFTS DEVELOPMENT CORPORATION LIMITED'),\n",
       " ('MANISH KUMAR JAIN', 'BAJAJ FINSERV LIMITED'),\n",
       " ('HARSHAVARDHAN THAMINAAR', 'GOENKA DIAMONDS PRIVATE LIMITED'),\n",
       " ('LAKSHMIKANTHAN KRISHNAN', 'TAEGUTEC INDIA PRIVATE LIMITED'),\n",
       " ('SHEELA RANI CHUNKATH',\n",
       "  'TAMILNADU HANDICRAFTS DEVELOPMENT CORPORATION LIMITED'),\n",
       " ('M. Bhagya Matha', 'SYNERGY MEDIA ENTERTAINMENT LIMITED'),\n",
       " ('CHEREZAD RATAN BHARUCHA', 'CONFEDERATION OF INDIAN INTERNET COMMERCE'),\n",
       " ('RAJIV BAJAJ', 'BAJAJ AUTO LIMITED.'),\n",
       " ('Shri Pradeep Kasni',\n",
       "  'HARYANA LAND RECLAMATION AND DEVELOPMENT CORPORATION LIMITED'),\n",
       " ('RAHUL AHUJA', 'CONFEDERATION OF INDIAN INTERNET COMMERCE'),\n",
       " ('DEVARAJU CHANDRAMOHAN RAJU', 'CONFEDERATION OF INDIAN INTERNET COMMERCE'),\n",
       " ('VENKATA KRISHNA RAO PENDYALA', 'FERTILIZER CORPORATION OF INDIA LIMITED'),\n",
       " ('AJIT KUMAR JHA', 'Social Justice and Empowerment Department'),\n",
       " ('OM PRAKASH DHINGRA', 'URBAN DEVELOPMENT CORPORATION PRIVATE LIMITED'),\n",
       " ('ANANT MAHESHWARI', 'HONEYWELL AUTOMATION INDIA LIMITED'),\n",
       " ('SANDEEP VISHNUPRASAD DAVE',\n",
       "  'KARNATAKA STATE BEVERAGES CORPORATION LIMITED'),\n",
       " ('SUNIL DEVICHAND SURANA', 'EFIN SERVICES (INDIA) PRIVATE LIMITED'),\n",
       " ('RAJDEEP SINGH NARAG', 'TOYOTA KIRLOSKAR MOTOR PRIVATE LIMITED'),\n",
       " ('KANNAN DEVAKI', 'ELBIT MEDICAL DIAGNOSTICS LIMITED'),\n",
       " ('SANJAY KAJARIA', 'INDIAN JUTE MILLS ASSOCIATION'),\n",
       " ('Mahendran.C', 'DARPAN EDUCATIONAL INSTITUTIONS'),\n",
       " ('PRAVEEN KUMAR JAIN', 'PARLE PRODUCTS PRIVATE LIMITED'),\n",
       " ('MALAGAVELI NARAYANA REDDI', 'HYDERABAD RACE CLUB'),\n",
       " ('VIVEK GULU JHANGIANI', 'Coordination Department'),\n",
       " ('VIRAL VINOD CHITALIA', 'BSE INSTITUTE LIMITED'),\n",
       " ('SUNDARAM RAMAKRISHNA', 'MADRAS CRICKET CLUB'),\n",
       " ('SHEELA RANI CHUNKATH',\n",
       "  'TAMILNADU INDUSTRIAL INVESTMENT CORPORATION LIMITED'),\n",
       " ('RAVI RASENDRA MAZUMDAR', 'BIOCON ACADEMY'),\n",
       " ('RANGASWAMY SRINIVASA SAMPATH', 'DARPAN EDUCATIONAL INSTITUTIONS'),\n",
       " ('KUMAR RAJAGOPALAN', \"RETAILERS ASSOCIATION'S SKILL COUNCIL OF INDIA\"),\n",
       " ('HANUMAN PRASAD', 'MYSORE RACE CLUB LIMITED.'),\n",
       " ('SURESH BABU THAMPI ACHUTHAN SYAMALA',\n",
       "  'VIZHINJAM INTERNATIONAL SEAPORT LIMITED'),\n",
       " ('MOHAMED PUTHEN VEEDAN', 'KERALA RAPID TRANSIT CORPORATION LIMITED'),\n",
       " ('SHRI RAM', 'DLF GOLF RESORTS LIMITED'),\n",
       " ('AKHAURY MANISH SINHA', 'GMR HYDERABAD INTERNATIONAL AIRPORT LIMITED'),\n",
       " ('MOHAMED IQBAL MATHAR', 'FINANCIAL PLANNING STANDARDS BOARD INDIA'),\n",
       " ('SRINIVASAN SUBRAMANIAM', 'SUNDARAM -CLAYTON LIMITED'),\n",
       " ('PALANISAMY SHANMUGASUNDARAM', 'TICEL BIO PARK LIMITED'),\n",
       " ('s krishna reddy', 'KARNATAKA ROAD DEVELOPMENT CORPORATION LIMITED'),\n",
       " ('CHELLAPPAN TAMIL SELVAN', 'TAMILNADU MAGNESITE LIMITED'),\n",
       " ('SRINIVAS ACHARYA', 'SUNDARAM INFOTECH SOLUTIONS LIMITED'),\n",
       " ('SIVARAMAKRISHNAN SUBRAMONEY',\n",
       "  'CONSOLIDATED CONSTRUCTION CONSORTIUM LIMITED'),\n",
       " ('Sanjeev Kumar Kaushal', 'HARYANA POWER GENERATION CORPORATION LTD'),\n",
       " ('SRINIVASA AYYANGAR SAMPATHRAMAN',\n",
       "  'FEDERATION OF INDIA-ARAB CHAMBER OF COMMERCE AND INDUSTRY'),\n",
       " ('SHAILESH DHANJIBHAI TANTI', 'SUZLON GENERATORS LIMITED'),\n",
       " ('AKELLA SRINIVAS RAO', 'SHRIRAM LIFE INSURANCE COMPANY LIMITED'),\n",
       " ('VAISHALI SUDHEER DEODHAR', 'BHARTI AXA GENERAL INSURANCE COMPANY LIMITED'),\n",
       " ('TAPAN KUMAR SINGHEL', 'BAJAJ ALLIANZ LIFE INSURANCE COMPANY LIMITED'),\n",
       " ('VINOD TOLAMBIA', 'JSW STEEL COATED PRODUCTS LIMITED'),\n",
       " ('VENKATARAMANI SUMANTRAN', 'NISSAN ASHOK LEYLAND POWERTRAIN LIMITED'),\n",
       " ('SAILENDRA MOHAN BEBORTHA', 'PERCEPT HOTELS PRIVATE LIMITED'),\n",
       " ('MANISH DUTTA', 'INTERCONTINENTAL HOSPITALS LIMITED'),\n",
       " ('PRATAP ASHOK GOKHALE', 'RAJ OIL MILLS LIMITED'),\n",
       " ('SUSHIL RADHAKISHAN KEJRIWAL',\n",
       "  'SHELLAC AND FOREST PRODUCTS EXPORT PROMOTION COUNCIL'),\n",
       " ('PANKAJ VASANTLAL KIKAVAT', 'POLARIS INDIA PRIVATE LIMITED'),\n",
       " ('Sanjeev Kumar Kaushal', 'HARYANA POWER GENERATION CORPORATION LTD'),\n",
       " ('RAJEEV SINGH TYAGI', 'INDIA-KUWAIT CHAMBER OF COMMERCE'),\n",
       " ('HARKANWAL SINGH WADHWA', 'AZURE POWER INDIA PRIVATE LIMITED'),\n",
       " ('SRINIVAS KOLLAPUDI', 'BTI PAYMENTS PRIVATE LIMITED'),\n",
       " ('DIPAK CHATTERJEE', 'SBI FUNDS MANAGEMENT PRIVATE LIMITED'),\n",
       " ('PARIJAT SUDHANYA KUMAR DUTTA', 'SBI LIFE INSURANCE COMPANY LIMITED'),\n",
       " ('AJAYKUMAR BHAGWATI DEORA', 'HEALTHCARE GLOBAL ENTERPRISES LIMITED'),\n",
       " ('PRAVIN RAGHUVIR DONGRE', 'INDIA PULSES AND GRAINS ASSOCIATION'),\n",
       " ('RAJAN KRISHNASWAMY PILLAI', 'INDIAN STRATEGIC PETROLEUM RESERVES LIMITED'),\n",
       " ('MOHAN SANKAR',\n",
       "  'KERALA STATE BACKWARD CLASSES DEVELOPMENT CORPORATION LIMITED'),\n",
       " ('NIKUNJ SANGHI',\n",
       "  'FEDERATION OF AUTOMOBILE DEALERS ASSOCIATIONS TFR.FROM MUMBAI TO DELHI'),\n",
       " ('ANJALI VISHNUBHAI TOLANI', 'APPU HOTELS LIMITED'),\n",
       " ('RADHAKRISHNAN KRITHIKA', 'ASIANET NEWS NETWORK PRIVATE LIMITED'),\n",
       " ('ANAND KUMAR SALUJA', 'SBI CARDS AND PAYMENT SERVICES PRIVATE LIMITED'),\n",
       " ('SUDARSHAN LAL BALUJA', 'MANIPAL HEALTH SYSTEMS PRIVATE LIMITED'),\n",
       " ('LAKSHMINARAYANAN RAMKUMAR', 'TUBE INVESTMENTS OF INDIA LIMITED'),\n",
       " ('SANJAY KUMAR SINGH', 'DELHI INTERNATIONAL AIRPORT PRIVATE LIMITED'),\n",
       " ('VISHWAS VASANT PATHAK',\n",
       "  'MAHARASHTRA STATE POWER GENERATION COMPANY LIMITED'),\n",
       " ('SUNIL SHANTILAL NAWAL', 'FENNER (INDIA) LIMITED'),\n",
       " ('NADIR BURJOR GODREJ', 'GODREJ AGROVET LIMITED'),\n",
       " ('VIKRAM VERMA VADAPALLI', 'TEAMLEASE SERVICES LIMITED'),\n",
       " ('HARSH MOHAN GUPTA', 'THE MYSORE PAPER MILLS LIMITED'),\n",
       " ('VIKAAS MOHAN SACHDEVA', 'TATA ASSET MANAGEMENT LIMITED'),\n",
       " ('KRISHNADAS ELAYAT', 'DP WORLD PRIVATE LIMITED'),\n",
       " ('POTTAYIL MADHAVA MENON', 'CONFEDERATION OF INDIAN INTERNET COMMERCE'),\n",
       " ('SURESH KAMAT GUNDITHODI BABU', 'AURO MIRA ENERGY COMPANY PRIVATE LIMITED'),\n",
       " ('SANDEEP GHOSH', 'RELIANCE CAPITAL LIMITED'),\n",
       " ('LAL KRISHNA POPURI PANDARI', 'RAMKY PHARMA CITY (INDIA) LIMITED'),\n",
       " ('RAJEEV VARMAN', 'BURGER KING RESTAURANT PRIVATE LIMITED'),\n",
       " ('BALA KIRAN POLAMURI',\n",
       "  'KERALA STATE INFORMATION TECHNOLOGY INFRASTRUCTURE LIMITED'),\n",
       " ('ANJU AUDUTH TIMBLO', 'S-FOMENTO RESOURCES PRIVATE LIMITED'),\n",
       " ('HARISH MADAN', 'RANE NSK STEERING SYSTEMS PRIVATE LIMITED'),\n",
       " ('PRASHANT BANGUR', 'SHREE CEMENT LIMITED'),\n",
       " ('KISHORE KALE', 'EVERONN EDUCATION LIMITED'),\n",
       " ('RATHINDRA NATH BASU', 'ALSTOM T AND D INDIA LIMITED'),\n",
       " ('VENKATARAMANI SUMANTRAN', 'NISSAN ASHOK LEYLAND POWERTRAIN LIMITED'),\n",
       " ('RAJEEV PARASCHANDRA JAIN', 'BAJAJ FINSERV LIMITED'),\n",
       " ('SRIDHAR', 'ACE CREATIVE LEARNING PRIVATE LIMITED'),\n",
       " ('SATISH CHANDER', 'TRUE NORTH AR INDIA PRIVATE LIMITED'),\n",
       " ('PSYCHE NIGAM', 'TVS AUTOMOBILE SOLUTIONS PRIVATE LIMITED'),\n",
       " ('RAKESH RAJ SHARMA', 'INSECTICIDES (INDIA) LIMITED'),\n",
       " ('KUMAR RAJAGOPALAN', \"RETAILERS ASSOCIATION'S SKILL COUNCIL OF INDIA\"),\n",
       " ('KIRAN KURUNDKAR', 'MAHARASHTRA STATE ROAD DEVELOPMENT CORPORATION LIMITED'),\n",
       " ('MOHD SAJID MALIK', 'GENESYS INTERNATIONAL CORPORATION LIMITED'),\n",
       " ('SRINIVASA AYYANGAR SAMPATHRAMAN',\n",
       "  'FEDERATION OF INDIA-ARAB CHAMBER OF COMMERCE AND INDUSTRY'),\n",
       " ('BALRAJ SINGH', 'GODREJ AGROVET LIMITED'),\n",
       " ('VINOD NOWAL', 'JSW STEEL COATED PRODUCTS LIMITED'),\n",
       " ('ANIL KUMAR GARG', 'PAN PARAG INDIA LIMITED'),\n",
       " ('VAIDHEESH ANNASWAMY', 'GLAXOSMITHKLINE PHARMACEUTICALS LIMITED'),\n",
       " ('RAJENDRA KUMAR BAKIWALA', 'INTELENET GLOBAL SERVICES PRIVATE LIMITED'),\n",
       " ('ANAND M LIMAYE', 'JAINCO AUTOMOTIVE PVT LTD'),\n",
       " ('PANKAJ VASANTLAL KIKAVAT', 'POLARIS INDIA PRIVATE LIMITED'),\n",
       " ('Manimaran.K', 'PEOPLE DEVELOPMENT'),\n",
       " ('GIRISH GOVIND PUNDLIK', 'JSW STEEL COATED PRODUCTS LIMITED'),\n",
       " ('PUNEET NANDA', 'ICICI PRUDENTIAL LIFE INSURANCE COMPANY LIMITED'),\n",
       " ('KALYANARAMAN MAHALINGAM', 'KALYAN JEWELLERS INDIA LIMITED'),\n",
       " ('PUNEET NANDA', 'ICICI PRUDENTIAL LIFE INSURANCE COMPANY LIMITED'),\n",
       " ('RAJENDRA BHANAWAT', 'INVESTMENT CORPORATION (RATLAM) PRIVATE LIMITED'),\n",
       " ('Ravindr', 'AIRASIA (INDIA) PRIVATE LIMITED'),\n",
       " ('RAMESH PRASAD', 'RANIPET TANNERY EFFLUENT TREATMENT COMPANY LIMITED'),\n",
       " ('MAHESH MANISHANKAR BHATT',\n",
       "  'CHAMUNDESHWARI ELECTRICITY SUPPLY CORPORATION LIMITED'),\n",
       " ('RISHI RAJ INANI', 'HSBC ASSET MANAGEMENT (INDIA) PRIVATE LIMITED'),\n",
       " ('RAVINDERSING GURUCHARANSINGH CHOPRA', 'PIAGGIO VEHICLES PRIVATE LIMITED'),\n",
       " ('UMESH TULSHAN', 'ZOOM COMMUNICATIONS LIMITED'),\n",
       " ('SOICHIRO ODA', 'HONDA CARS INDIA LIMITED'),\n",
       " ('BRAHMOD KUMAR BHUTIANI', 'COAL CONSUMERS ASSOCIATION OF INDIA'),\n",
       " ('Harish Tyagi', 'EMAAR MGF LAND LIMITED'),\n",
       " ('Ravindr', 'AIRASIA (INDIA) PRIVATE LIMITED'),\n",
       " ('RAJESH RAJU', 'KALAARI CAPITAL ADVISORS PRIVATE LIMITED'),\n",
       " ('SANJAY GUPTA', 'PNB HOUSING FINANCE LIMITED'),\n",
       " ('PADMA VINOD SHAH', 'GEOJIT BNP PARIBAS FINANCIAL SERVICES LIMITED'),\n",
       " ('SRINIVASAN KRISHNAMOORTHY',\n",
       "  'FEDERATION OF INDIA-ARAB CHAMBER OF COMMERCE AND INDUSTRY'),\n",
       " ('JAGDISH MULCHANDANI', 'ORION MALL MANAGEMENT COMPANY LIMITED'),\n",
       " ('ARUNENDU SAHA', 'GMR ENERGY LIMITED'),\n",
       " ('SATYABRATA SAHOO', 'TAMILNADU INDUSTRIAL INVESTMENT CORPORATION LIMITED'),\n",
       " ('MURALIDHARAN THYAGARAJAN', 'TMI E2E ACADEMY PRIVATE LIMITED'),\n",
       " ('RAJIV KUMAR GUPTA',\n",
       "  'FEDERATION OF INDIAN CHAMBER OF COMMERCE AND INDUSTRY.'),\n",
       " ('DEBDAS SEN', 'TCG DIGITAL SOLUTIONS PRIVATE LIMITED'),\n",
       " ('NIRMAL PRATAPRAI MEHTA', 'SMART CARD IT SOLUTIONS LIMITED'),\n",
       " ('CHANDANMAL DEVICHANDJI JAIN', 'EXPORT PROMOTION COUNCIL FOR HANDICRAFTS'),\n",
       " ('AJIT SHRIDHAR SHRIRAM', 'DCM SHRIRAM FOUNDATION'),\n",
       " ('KISHORE ARJAN LULLA', 'EROS INTERNATIONAL MEDIA LIMITED'),\n",
       " ('VINOD COTHA HAYAGRIV', 'C KRISHNIAH CHETTY AND SONS PRIVATE LIMITED'),\n",
       " ('SAMIR HARENDRA PATEL', 'ACK MEDIA DIRECT LIMITED'),\n",
       " ('NITIN MITTAL', 'BHARTI AIRTEL LIMITED'),\n",
       " ('ARUN MAMMEN', 'MRF LIMITED')]"
      ]
     },
     "execution_count": 10,
     "metadata": {},
     "output_type": "execute_result"
    }
   ],
   "source": [
    "list(zip(name, org))"
   ]
  },
  {
   "cell_type": "code",
   "execution_count": 11,
   "metadata": {},
   "outputs": [],
   "source": [
    "import csv"
   ]
  },
  {
   "cell_type": "code",
   "execution_count": 16,
   "metadata": {},
   "outputs": [],
   "source": [
    "with open('relatedInstancesWorksIn.csv', 'w') as fil:\n",
    "    writer = csv.writer(fil)\n",
    "    for i in range(len(name)):\n",
    "        writer.writerow([name[i], name_uuid[i], org[i], org_uuid[i], sen[i]])"
   ]
  },
  {
   "cell_type": "code",
   "execution_count": 17,
   "metadata": {},
   "outputs": [
    {
     "data": {
      "text/plain": [
       "294"
      ]
     },
     "execution_count": 17,
     "metadata": {},
     "output_type": "execute_result"
    }
   ],
   "source": [
    "len(name)"
   ]
  },
  {
   "cell_type": "code",
   "execution_count": 18,
   "metadata": {},
   "outputs": [
    {
     "data": {
      "text/plain": [
       "294"
      ]
     },
     "execution_count": 18,
     "metadata": {},
     "output_type": "execute_result"
    }
   ],
   "source": [
    "len(sen)"
   ]
  },
  {
   "cell_type": "code",
   "execution_count": 19,
   "metadata": {},
   "outputs": [
    {
     "data": {
      "text/plain": [
       "294"
      ]
     },
     "execution_count": 19,
     "metadata": {},
     "output_type": "execute_result"
    }
   ],
   "source": [
    "len(org)"
   ]
  },
  {
   "cell_type": "code",
   "execution_count": 20,
   "metadata": {},
   "outputs": [],
   "source": [
    "with open('relatedInstancesInGraphDb_WorksIn.txt', 'w') as fil:\n",
    "    for i in range(len(sen)):\n",
    "        print(name[i], '\\t' , org[i], '\\n', sen[i], '\\n', '-'*50, file=fil)"
   ]
  },
  {
   "cell_type": "code",
   "execution_count": null,
   "metadata": {},
   "outputs": [],
   "source": []
  }
 ],
 "metadata": {
  "kernelspec": {
   "display_name": "Python 3",
   "language": "python",
   "name": "python3"
  },
  "language_info": {
   "codemirror_mode": {
    "name": "ipython",
    "version": 3
   },
   "file_extension": ".py",
   "mimetype": "text/x-python",
   "name": "python",
   "nbconvert_exporter": "python",
   "pygments_lexer": "ipython3",
   "version": "3.5.2"
  }
 },
 "nbformat": 4,
 "nbformat_minor": 2
}
